{
 "cells": [
  {
   "cell_type": "markdown",
   "id": "58a1b900",
   "metadata": {},
   "source": [
    "# Data Science Course Notebook"
   ]
  },
  {
   "cell_type": "code",
   "execution_count": null,
   "id": "a9cced26",
   "metadata": {},
   "outputs": [],
   "source": []
  },
  {
   "cell_type": "markdown",
   "id": "8a8a16b4",
   "metadata": {},
   "source": [
    "## Introduction\n",
    "This notebook covers various aspects of data science, including programming languages, libraries, tools, and basic arithmetic operations."
   ]
  },
  {
   "cell_type": "markdown",
   "id": "16e261f0",
   "metadata": {},
   "source": [
    "## Data Science Languages\n",
    "- Python\n",
    "- R\n",
    "- SQL\n",
    "- Julia\n",
    "- Scala"
   ]
  },
  {
   "cell_type": "markdown",
   "id": "e0dd77a9",
   "metadata": {},
   "source": [
    "## Data Science Libraries\n",
    "- NumPy\n",
    "- Pandas\n",
    "- Matplotlib\n",
    "- Scikit-learn\n",
    "- TensorFlow\n",
    "- Keras"
   ]
  },
  {
   "cell_type": "markdown",
   "id": "6b52bc55",
   "metadata": {},
   "source": [
    "\n",
    "## Data Science Tools\n",
    "\n",
    "| Tool             | Description                          |\n",
    "|-----------------|----------------------------------|\n",
    "| Jupyter Notebook | Interactive computing environment |\n",
    "| RStudio         | IDE for R language               |\n",
    "| Apache Spark    | Big data processing framework    |\n",
    "| TensorFlow      | Machine learning framework      |\n",
    "| Tableau        | Data visualization tool          |\n"
   ]
  },
  {
   "cell_type": "markdown",
   "id": "92e63433",
   "metadata": {},
   "source": [
    "## Arithmetic Expressions\n",
    "Arithmetic expressions can be used for various calculations such as addition, multiplication, and division."
   ]
  },
  {
   "cell_type": "code",
   "execution_count": null,
   "id": "ccfafb54",
   "metadata": {},
   "outputs": [],
   "source": [
    "\n",
    "# Multiply and add numbers\n",
    "result = (3 * 4) + 5\n",
    "result\n"
   ]
  },
  {
   "cell_type": "code",
   "execution_count": null,
   "id": "b6f610d2",
   "metadata": {},
   "outputs": [],
   "source": [
    "\n",
    "# Convert minutes to hours\n",
    "minutes = 200\n",
    "hours = minutes / 60\n",
    "hours\n"
   ]
  },
  {
   "cell_type": "markdown",
   "id": "b3aafb4c",
   "metadata": {},
   "source": [
    "\n",
    "## Objectives\n",
    "\n",
    "- List popular data science languages\n",
    "- Identify commonly used data science libraries\n",
    "- Explore data science tools\n",
    "- Perform arithmetic operations\n",
    "- Convert time units in Python\n"
   ]
  },
  {
   "cell_type": "markdown",
   "id": "07c07045",
   "metadata": {},
   "source": [
    "## Author\n",
    "**Kevin Pulikkottil**"
   ]
  }
 ],
 "metadata": {
  "language_info": {
   "name": "python"
  }
 },
 "nbformat": 4,
 "nbformat_minor": 5
}
